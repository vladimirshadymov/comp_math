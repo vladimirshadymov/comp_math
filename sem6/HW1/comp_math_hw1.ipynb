{
 "cells": [
  {
   "cell_type": "markdown",
   "metadata": {},
   "source": [
    "# Жесткие системы ОДУ\n",
    "### Расчет суточных колебаний концетраций озона в атмосфере"
   ]
  },
  {
   "cell_type": "code",
   "execution_count": 9,
   "metadata": {},
   "outputs": [],
   "source": [
    "import numpy as np"
   ]
  },
  {
   "cell_type": "markdown",
   "metadata": {},
   "source": [
    "Колебания концентраций задаются следующей системой уравнений \n",
    "\n",
    "$$ \n",
    "\\begin{cases}\n",
    "\\dot y_1 = -k_1y_1y_2 - k_2y_1y_3 + 2k_3(t)y_2+k_4(t)y_3 \\\\\n",
    "\\dot y_2 = 0\\\\\n",
    "\\dot y_3 = k_1y_1y_2 - k_2y_1y_3 - k_4(t)y_3\n",
    "\\end{cases},\n",
    "$$\n",
    "где $y_1 = [O]$, $y_2 = [O_2]$, $y_3 = [O_3]$."
   ]
  },
  {
   "cell_type": "markdown",
   "metadata": {},
   "source": [
    "Начальные условия задачи при $t=0$:"
   ]
  },
  {
   "cell_type": "code",
   "execution_count": 8,
   "metadata": {},
   "outputs": [],
   "source": [
    "atom_oxygen_init = 1e6 #cm^-1\n",
    "molec_oxygen_init = 3.7e16 #cm^-1\n",
    "ozone_init = 1e12 #cm^-1"
   ]
  },
  {
   "cell_type": "markdown",
   "metadata": {},
   "source": [
    "Константы химических скоростей:"
   ]
  },
  {
   "cell_type": "code",
   "execution_count": 31,
   "metadata": {},
   "outputs": [],
   "source": [
    "k1 = 1.63e-16\n",
    "k2 = 4.66e-16\n",
    "c3 = 22.62\n",
    "c4 = 7.601\n",
    "omega = np.pi/43200 # c^-1\n",
    "\n",
    "class RateConst:\n",
    "    def __init__(self, k1=k1, k2=k2, c3=c3, c4=c4, omega=omega):\n",
    "        self.k1 = k1\n",
    "        self.k2 = k2\n",
    "        self.c3 = c3\n",
    "        self.c4 = c4\n",
    "        self.omega = omega\n",
    "    \n",
    "    def get_rate_const(self, t, c):\n",
    "        if np.sin(self.omega*t)>0: \n",
    "            return np.exp(-c/np.sin(self.omega*t))\n",
    "        else: return 0.0\n",
    "        \n",
    "    def k1(self, *args):\n",
    "        return self.k1\n",
    "    \n",
    "    def k2(self, *args):\n",
    "        return self.k2\n",
    "    \n",
    "    def k3(self, t):\n",
    "        return self.get_rate_const(t=t, c=self.c3)\n",
    "\n",
    "    def k4(self, t):\n",
    "        return self.get_rate_const(t=t, c=self.c4)\n"
   ]
  },
  {
   "cell_type": "code",
   "execution_count": 32,
   "metadata": {},
   "outputs": [],
   "source": [
    "rc = RateConst()"
   ]
  },
  {
   "cell_type": "code",
   "execution_count": null,
   "metadata": {},
   "outputs": [],
   "source": [
    "def F(x, t):\n",
    "    "
   ]
  },
  {
   "cell_type": "markdown",
   "metadata": {},
   "source": [
    "$\\(\\sum_{j=0}^{k} \\alpha_j y_{n+k-j+1} = h \\beta_j f(y_{n+1})\\)$"
   ]
  },
  {
   "cell_type": "code",
   "execution_count": null,
   "metadata": {},
   "outputs": [],
   "source": []
  }
 ],
 "metadata": {
  "kernelspec": {
   "display_name": "Python 3",
   "language": "python",
   "name": "python3"
  },
  "language_info": {
   "codemirror_mode": {
    "name": "ipython",
    "version": 3
   },
   "file_extension": ".py",
   "mimetype": "text/x-python",
   "name": "python",
   "nbconvert_exporter": "python",
   "pygments_lexer": "ipython3",
   "version": "3.6.7"
  }
 },
 "nbformat": 4,
 "nbformat_minor": 2
}
